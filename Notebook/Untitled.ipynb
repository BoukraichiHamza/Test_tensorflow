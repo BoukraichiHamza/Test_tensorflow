{
 "cells": [
  {
   "cell_type": "code",
   "execution_count": 1,
   "metadata": {},
   "outputs": [
    {
     "name": "stderr",
     "output_type": "stream",
     "text": [
      "/home/hboukrai/anaconda3/lib/python3.6/site-packages/h5py/__init__.py:36: FutureWarning: Conversion of the second argument of issubdtype from `float` to `np.floating` is deprecated. In future, it will be treated as `np.float64 == np.dtype(float).type`.\n",
      "  from ._conv import register_converters as _register_converters\n"
     ]
    }
   ],
   "source": [
    "\"\"\"\n",
    "Import des modules\n",
    "\"\"\"\n",
    "import numpy as np\n",
    "import tensorflow as tf\n",
    "\n"
   ]
  },
  {
   "cell_type": "code",
   "execution_count": 2,
   "metadata": {},
   "outputs": [
    {
     "name": "stdout",
     "output_type": "stream",
     "text": [
      "Train_data =  [[0.704189383447774], [0.44690674127090846], [0.3754825626934548], [0.12326944534619244], [0.27542119153837163]]\n",
      "Train_target =  [[8.178640571131869], [4.8888674096991505], [4.2380883466958075], [2.559177892700054], [3.4694273920325234]]\n",
      "Test_data =  [[0.4510669831333264], [0.4175480787339485], [0.7872746263677648]]\n",
      "Test_target =  [[4.92971485099272], [4.6100713680513286], [9.657129330410388]]\n"
     ]
    }
   ],
   "source": [
    "\"\"\"\n",
    "    Generation des donnees\n",
    "\"\"\"\n",
    "eta_edp = 2\n",
    "def generate_data(n,m):\n",
    "    train_data   = []\n",
    "    train_target = []\n",
    "    test_data    = []\n",
    "    test_target  = []\n",
    "\n",
    "    #Generate train data\n",
    "    for i in range(1,n+1):\n",
    "        j = np.random.rand()\n",
    "        train_data.append([j])\n",
    "        f = eta_edp*np.exp(eta_edp*j)\n",
    "        train_target.append([f])\n",
    "    #Generate Test data\n",
    "    for i in range(1,m+1):\n",
    "        j = np.random.rand()\n",
    "        test_data.append([j])\n",
    "        f = eta_edp*np.exp(eta_edp*j)\n",
    "        test_target.append([f])\n",
    "\n",
    "    return train_data,train_target,test_data,test_target\n",
    "\n",
    "\"\"\"\n",
    "Test\n",
    "\"\"\"\n",
    "td,tt,td1,tt1 = generate_data(5,3)\n",
    "print('Train_data = ',td)\n",
    "print('Train_target = ',tt)\n",
    "print('Test_data = ',td1)\n",
    "print('Test_target = ',tt1)"
   ]
  },
  {
   "cell_type": "code",
   "execution_count": 3,
   "metadata": {},
   "outputs": [],
   "source": [
    "n  = 10000 #Nombres de paquets de données générées\n",
    "p = 1000 # Nombres de paquets de données de test générées\n",
    "m  = 200 #Nombres de neurones dans le hidden layer\n",
    "#Recuperation des donnees\n",
    "train_data,train_target, test_data, test_target = generate_data(n,p)\n"
   ]
  },
  {
   "cell_type": "code",
   "execution_count": 4,
   "metadata": {},
   "outputs": [],
   "source": [
    " \"\"\"\n",
    "    Elements du graphes\n",
    "    \"\"\"\n",
    "\n",
    "# Entree\n",
    "tf_data = tf.placeholder(tf.float32,shape=[None,1])\n",
    "tf_cible = tf.placeholder(tf.float32,shape=[None,1])\n",
    "\n",
    "#Variables graphes (poids et biais)\n",
    "\"\"\"\n",
    "1er layer\n",
    "\"\"\"\n",
    "w1 = tf.Variable(tf.random_normal([1,m]))\n",
    "b1 = tf.Variable(tf.zeros([m]))\n",
    "\n",
    "#Propagation des donnees\n",
    "z1 = tf.matmul(tf_data,w1)+b1\n",
    "\n",
    "#fonction d'activation du 1er Layer\n",
    "py1 = tf.nn.sigmoid(z1)\n",
    "\"\"\"\n",
    "Neurone de sortie\n",
    "\"\"\"\n",
    "w = tf.Variable(tf.random_normal([m,1]))\n",
    "b = tf.Variable(tf.zeros([1]))\n",
    "\n",
    "#Propagation des donnees\n",
    "z = tf.matmul(py1,w)+b\n",
    "py = z"
   ]
  },
  {
   "cell_type": "code",
   "execution_count": 7,
   "metadata": {},
   "outputs": [],
   "source": [
    "\"\"\"\n",
    "Fonction du graphe\n",
    "\"\"\"\n",
    "#Fonction de cout\n",
    "d_ann_aux = tf.nn.sigmoid(tf.matmul((tf.matmul(tf_data,w1)+b1),w)+b)\n",
    "d_ann = d_ann_aux*(1-d_ann_aux)\n",
    "cost = tf.reduce_mean(tf.square(d_ann-tf_cible))\n",
    "\n",
    "#Etude de precision\n",
    "#pred_juste = tf.equal(py,tf_cible)\n",
    "pred_juste = tf.less_equal(tf.abs(z-tf_cible),1e-2)\n",
    "accuracy = tf.reduce_mean(tf.cast(pred_juste,tf.float32))\n",
    "\n",
    "#Entrainement\n",
    "opt = tf.train.GradientDescentOptimizer(learning_rate=0.001)\n",
    "train = opt.minimize(cost)\n",
    "\n",
    "\n"
   ]
  },
  {
   "cell_type": "code",
   "execution_count": 8,
   "metadata": {},
   "outputs": [
    {
     "name": "stdout",
     "output_type": "stream",
     "text": [
      "epoch[ 1 ]  err =  51.699898 \t accuracy =  0.2400000113993883\n",
      "epoch[ 101 ]  err =  51.223793 \t accuracy =  0.26000000070780516\n",
      "epoch[ 201 ]  err =  49.426983 \t accuracy =  0.2899999963119626\n",
      "epoch[ 301 ]  err =  48.869804 \t accuracy =  0.43000001460313797\n",
      "epoch[ 401 ]  err =  48.841324 \t accuracy =  0.44999998062849045\n",
      "epoch[ 501 ]  err =  48.841045 \t accuracy =  0.419999985024333\n",
      "epoch[ 601 ]  err =  48.841038 \t accuracy =  0.4399999976158142\n",
      "epoch[ 701 ]  err =  48.841038 \t accuracy =  0.4399999976158142\n",
      "epoch[ 801 ]  err =  48.841038 \t accuracy =  0.4399999976158142\n",
      "epoch[ 901 ]  err =  48.841038 \t accuracy =  0.4399999976158142\n",
      "epoch[ 1001 ]  err =  48.841038 \t accuracy =  0.4399999976158142\n"
     ]
    }
   ],
   "source": [
    "#Creation de la session\n",
    "sess = tf.Session()\n",
    "#Initialisation des variables\n",
    "sess.run(tf.global_variables_initializer())\n",
    "\n",
    "##Execution de l'entrainement\n",
    "epoch = 1001\n",
    "for e in range(1,epoch+1):\n",
    "    #Entrainement\n",
    "    sess.run(train,feed_dict={\n",
    "    tf_data : train_data,\n",
    "    tf_cible: train_target\n",
    "    })\n",
    "    \"\"\"\n",
    "    predicted = sess.run(py, feed_dict={\n",
    "    tf_data : train_data,\n",
    "    tf_cible: train_target\n",
    "    })\n",
    "    \"\"\"\n",
    "    err = sess.run(cost,feed_dict={\n",
    "    tf_data : test_data,\n",
    "    tf_cible: test_target\n",
    "    })\n",
    "\n",
    "    #Calcul precision\n",
    "    acc = sess.run(accuracy,feed_dict={\n",
    "    tf_data : train_data,\n",
    "    tf_cible: train_target\n",
    "    })\n",
    "    if (e%100 == 1) :\n",
    "        print(\"epoch[\",e,\"]  err = \",err,\"\\t accuracy = \",acc*100)"
   ]
  },
  {
   "cell_type": "code",
   "execution_count": null,
   "metadata": {},
   "outputs": [],
   "source": []
  },
  {
   "cell_type": "code",
   "execution_count": null,
   "metadata": {},
   "outputs": [],
   "source": []
  }
 ],
 "metadata": {
  "kernelspec": {
   "display_name": "Python 3",
   "language": "python",
   "name": "python3"
  },
  "language_info": {
   "codemirror_mode": {
    "name": "ipython",
    "version": 3
   },
   "file_extension": ".py",
   "mimetype": "text/x-python",
   "name": "python",
   "nbconvert_exporter": "python",
   "pygments_lexer": "ipython3",
   "version": "3.6.5"
  }
 },
 "nbformat": 4,
 "nbformat_minor": 2
}
